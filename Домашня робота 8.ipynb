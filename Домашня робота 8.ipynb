{
 "cells": [
  {
   "cell_type": "markdown",
   "metadata": {},
   "source": [
    "___\n",
    "\n",
    "<a href='https://mainacademy.ua/'> <img src='https://mainacademy.ua/wp-content/uploads/2019/03/logo-main.png' alt = 'Хмм, щось з інтернетом'/></a>\n",
    "___\n",
    "\n",
    "# Module 5: Data analysis with NumPy and Pandas"
   ]
  },
  {
   "cell_type": "markdown",
   "metadata": {},
   "source": [
    "## Lab work 5.1\n",
    "\n"
   ]
  },
  {
   "cell_type": "markdown",
   "metadata": {},
   "source": [
    "#### Мета: \n",
    "\n",
    "* навчитися працювати із бібліотекою NumPy в Python"
   ]
  },
  {
   "cell_type": "markdown",
   "metadata": {},
   "source": [
    "### Завдання:"
   ]
  },
  {
   "cell_type": "code",
   "execution_count": 2,
   "metadata": {},
   "outputs": [],
   "source": [
    "import numpy as np"
   ]
  },
  {
   "cell_type": "markdown",
   "metadata": {},
   "source": [
    "Вивести версію та конфігурацію бібліотеки:"
   ]
  },
  {
   "cell_type": "code",
   "execution_count": 3,
   "metadata": {},
   "outputs": [
    {
     "name": "stdout",
     "output_type": "stream",
     "text": [
      "Версія NumPy: 1.23.5\n",
      "blas_armpl_info:\n",
      "  NOT AVAILABLE\n",
      "blas_mkl_info:\n",
      "    libraries = ['mkl_rt']\n",
      "    library_dirs = ['C:/ProgramData/anaconda3\\\\Library\\\\lib']\n",
      "    define_macros = [('SCIPY_MKL_H', None), ('HAVE_CBLAS', None)]\n",
      "    include_dirs = ['C:/ProgramData/anaconda3\\\\Library\\\\include']\n",
      "blas_opt_info:\n",
      "    libraries = ['mkl_rt']\n",
      "    library_dirs = ['C:/ProgramData/anaconda3\\\\Library\\\\lib']\n",
      "    define_macros = [('SCIPY_MKL_H', None), ('HAVE_CBLAS', None)]\n",
      "    include_dirs = ['C:/ProgramData/anaconda3\\\\Library\\\\include']\n",
      "lapack_armpl_info:\n",
      "  NOT AVAILABLE\n",
      "lapack_mkl_info:\n",
      "    libraries = ['mkl_rt']\n",
      "    library_dirs = ['C:/ProgramData/anaconda3\\\\Library\\\\lib']\n",
      "    define_macros = [('SCIPY_MKL_H', None), ('HAVE_CBLAS', None)]\n",
      "    include_dirs = ['C:/ProgramData/anaconda3\\\\Library\\\\include']\n",
      "lapack_opt_info:\n",
      "    libraries = ['mkl_rt']\n",
      "    library_dirs = ['C:/ProgramData/anaconda3\\\\Library\\\\lib']\n",
      "    define_macros = [('SCIPY_MKL_H', None), ('HAVE_CBLAS', None)]\n",
      "    include_dirs = ['C:/ProgramData/anaconda3\\\\Library\\\\include']\n",
      "Supported SIMD extensions in this NumPy install:\n",
      "    baseline = SSE,SSE2,SSE3\n",
      "    found = SSSE3,SSE41,POPCNT,SSE42,AVX,F16C\n",
      "    not found = FMA3,AVX2,AVX512F,AVX512CD,AVX512_SKX,AVX512_CLX,AVX512_CNL\n"
     ]
    }
   ],
   "source": [
    "print(\"Версія NumPy:\", np.__version__)\n",
    "np.show_config()\n"
   ]
  },
  {
   "cell_type": "markdown",
   "metadata": {},
   "source": [
    "Створити вектор з 10 елементів, заповнений одиницями:"
   ]
  },
  {
   "cell_type": "code",
   "execution_count": 8,
   "metadata": {},
   "outputs": [
    {
     "name": "stdout",
     "output_type": "stream",
     "text": [
      "Вектор:\n",
      " [1 1 1 1 1 1 1 1 1 1]\n"
     ]
    }
   ],
   "source": [
    "a = np.array([1]*10)\n",
    "print('Вектор:\\n', a)"
   ]
  },
  {
   "cell_type": "markdown",
   "metadata": {},
   "source": [
    "Створити вектор із значеннями від 0 до 10:"
   ]
  },
  {
   "cell_type": "code",
   "execution_count": 14,
   "metadata": {},
   "outputs": [
    {
     "name": "stdout",
     "output_type": "stream",
     "text": [
      "Вектор:\n",
      " [ 0  1  2  3  4  5  6  7  8  9 10]\n"
     ]
    }
   ],
   "source": [
    "b = np.arange(0, 11, 1)\n",
    "print('Вектор:\\n', b)"
   ]
  },
  {
   "cell_type": "markdown",
   "metadata": {},
   "source": [
    "Створити матрицю 5 на 5, заповнену нулями:"
   ]
  },
  {
   "cell_type": "code",
   "execution_count": 20,
   "metadata": {},
   "outputs": [
    {
     "name": "stdout",
     "output_type": "stream",
     "text": [
      "[[[0 0 0 0 0]\n",
      "  [0 0 0 0 0]\n",
      "  [0 0 0 0 0]\n",
      "  [0 0 0 0 0]\n",
      "  [0 0 0 0 0]]]\n"
     ]
    }
   ],
   "source": [
    "d = np.zeros((1,5,5), dtype='int32')\n",
    "print(d)"
   ]
  },
  {
   "cell_type": "markdown",
   "metadata": {},
   "source": [
    "Заповнити вектор з 20 елементів випадковими цілими числами. Знайти індекси ненульових елементів:"
   ]
  },
  {
   "cell_type": "code",
   "execution_count": 47,
   "metadata": {},
   "outputs": [
    {
     "name": "stdout",
     "output_type": "stream",
     "text": [
      "Індекс =  (0,)\n",
      "Індекс =  (1,)\n",
      "Індекс =  (6,)\n",
      "Індекс =  (10,)\n",
      "Індекс =  (14,)\n",
      "----------------------------\n",
      "[0 0 5 9 9 9 0 3 4 5 0 2 3 5 0 8 4 6 4 9]\n"
     ]
    }
   ],
   "source": [
    "c_list = np.random.randint(0, 10, size=20)\n",
    "\n",
    "for idx, x in np.ndenumerate(c_list):\n",
    "    if x == 0:\n",
    "        print('Індекс = ',idx)\n",
    "print('----------------------------')\n",
    "print(c_list)"
   ]
  },
  {
   "cell_type": "markdown",
   "metadata": {},
   "source": [
    "Для вектора із попередньої задачі знайти середнє значення, медіану, стандартне відхилення:"
   ]
  },
  {
   "cell_type": "code",
   "execution_count": 52,
   "metadata": {},
   "outputs": [
    {
     "name": "stdout",
     "output_type": "stream",
     "text": [
      "середнє значення = 4.25\n",
      "середнє значення = 4.0\n",
      "середнє значення = 3.222964473896664\n"
     ]
    }
   ],
   "source": [
    "print(f'середнє значення = {np.mean(c_list)}')\n",
    "print(f'середнє значення = {np.median(c_list)}')\n",
    "print(f'середнє значення = {np.std(c_list)}')"
   ]
  },
  {
   "cell_type": "markdown",
   "metadata": {},
   "source": [
    "Створити дві матриці випадкових чисел розміром 4х2 та 2х2. Перемножити їх:"
   ]
  },
  {
   "cell_type": "code",
   "execution_count": 77,
   "metadata": {},
   "outputs": [
    {
     "name": "stdout",
     "output_type": "stream",
     "text": [
      "[[363 467]\n",
      " [517 647]\n",
      " [705 991]\n",
      " [407 433]] \n",
      "\n",
      "----------------------------\n",
      "[[ 8 13]\n",
      " [10 19]\n",
      " [22 23]\n",
      " [ 2 17]] \n",
      "\n",
      "----------------------------\n",
      "[[ 8 21]\n",
      " [23 23]] \n",
      "\n"
     ]
    }
   ],
   "source": [
    "A = np.random.choice(25, size=(4, 2), replace=True)\n",
    "B = np.random.choice(25, size=(2, 2), replace=True)\n",
    "matrix = np.dot(A, B)\n",
    "print(matrix, '\\n')\n",
    "print('----------------------------')\n",
    "print(A, '\\n')\n",
    "print('----------------------------')\n",
    "print(B, '\\n')"
   ]
  },
  {
   "cell_type": "markdown",
   "metadata": {},
   "source": [
    "Результуючу матрицю із попередньої задачі перетворити у вектор. Знайти мінімальне та максимальне значення. \n",
    "\n",
    "Максимальне значення замінити на 0:"
   ]
  },
  {
   "cell_type": "code",
   "execution_count": 79,
   "metadata": {},
   "outputs": [
    {
     "name": "stdout",
     "output_type": "stream",
     "text": [
      "Вектор після заміни: [363 467 517 647 705   0 407 433]\n",
      "Максимальне значення: 991\n",
      "Мінімальне значення: 363\n"
     ]
    }
   ],
   "source": [
    "vector = matrix.flatten()\n",
    "min_value = vector.min()\n",
    "max_value = vector.max()\n",
    "max_index = np.argmax(vector)\n",
    "vector[max_index] = 0\n",
    "print(\"Вектор після заміни:\", vector)\n",
    "print(f'Максимальне значення: {max_value}')\n",
    "print(f'Мінімальне значення: {min_value}')"
   ]
  },
  {
   "cell_type": "markdown",
   "metadata": {},
   "source": [
    "Знайдіть кореляцію першого рядка матриці із попереднього завдання із іншими рядками:"
   ]
  },
  {
   "cell_type": "code",
   "execution_count": 80,
   "metadata": {},
   "outputs": [
    {
     "name": "stdout",
     "output_type": "stream",
     "text": [
      "Кореляцію першого рядка матриці:\n",
      "[[1. 1. 1. 1.]\n",
      " [1. 1. 1. 1.]\n",
      " [1. 1. 1. 1.]\n",
      " [1. 1. 1. 1.]]\n"
     ]
    }
   ],
   "source": [
    "cor_matrix = np.corrcoef(matrix)\n",
    "\n",
    "print(\"Кореляцію першого рядка матриці:\")\n",
    "print(cor_matrix)"
   ]
  },
  {
   "cell_type": "markdown",
   "metadata": {},
   "source": [
    "Дано матрицю. Знайти ранг матриці:"
   ]
  },
  {
   "cell_type": "code",
   "execution_count": 81,
   "metadata": {},
   "outputs": [
    {
     "name": "stdout",
     "output_type": "stream",
     "text": [
      "Ранг матриці: 3\n"
     ]
    }
   ],
   "source": [
    "a_matrix = np.array([[ 1,  4, 5],\n",
    "              [7, 3, 2],\n",
    "              [9, 16, 1]])\n",
    "\n",
    "rank = np.linalg.matrix_rank(a_matrix)\n",
    "print(\"Ранг матриці:\", rank)"
   ]
  },
  {
   "cell_type": "markdown",
   "metadata": {},
   "source": [
    "Знайти визначник матриці:"
   ]
  },
  {
   "cell_type": "code",
   "execution_count": 84,
   "metadata": {},
   "outputs": [
    {
     "name": "stdout",
     "output_type": "stream",
     "text": [
      "Визначник матриці: 440.0000000000002\n"
     ]
    }
   ],
   "source": [
    "vz = np.linalg.det(a_matrix)\n",
    "\n",
    "print(\"Визначник матриці:\", vz)"
   ]
  },
  {
   "cell_type": "markdown",
   "metadata": {},
   "source": [
    "Знайти власні значення та власні вектори матриці: "
   ]
  },
  {
   "cell_type": "code",
   "execution_count": 85,
   "metadata": {},
   "outputs": [
    {
     "name": "stdout",
     "output_type": "stream",
     "text": [
      "Власні значення: [14.13520334+0.j         -4.56760167+3.20389947j -4.56760167-3.20389947j]\n",
      "Власні вектори: [[ 0.43131913+0.j         -0.31386258-0.47450898j -0.31386258+0.47450898j]\n",
      " [ 0.41502436+0.j         -0.07049527+0.4090732j  -0.07049527-0.4090732j ]\n",
      " [ 0.8010734 +0.j          0.7099444 +0.j          0.7099444 -0.j        ]]\n"
     ]
    }
   ],
   "source": [
    "\n",
    "# Знайти власні значення та власні вектори матриці\n",
    "eigenvalues, eigenvectors = np.linalg.eig(a_matrix)\n",
    "\n",
    "# Вивести власні значення\n",
    "print(\"Власні значення:\", eigenvalues)\n",
    "\n",
    "# Вивести власні вектори\n",
    "print(\"Власні вектори:\", eigenvectors)"
   ]
  },
  {
   "cell_type": "markdown",
   "metadata": {},
   "source": [
    "Знайдіть число, що найчастіше зустрічається в масиві:"
   ]
  },
  {
   "cell_type": "code",
   "execution_count": 87,
   "metadata": {},
   "outputs": [
    {
     "name": "stdout",
     "output_type": "stream",
     "text": [
      "Число, що найчастіше зустрічається: 5\n",
      "-----------------------------------------------------\n",
      "[9 0 7 1 7 2 7 6 4 0 9 1 2 5 8 6 5 5 2 5 8 0 7 8 6 8 5 5 3 5 4 1 5 9 5 9 3\n",
      " 8 4 1 7 1 3 5 6 7 7 2 3 2]\n"
     ]
    }
   ],
   "source": [
    "a = np.random.randint(0,10,50)\n",
    "\n",
    "# Знайти кількість входжень кожного значення в масиві\n",
    "counts = np.bincount(a)\n",
    "\n",
    "# Знайти індекс значення з найбільшою кількістю входжень\n",
    "most_frequent_value = np.argmax(counts)\n",
    "\n",
    "# Вивести число з найбільшою кількістю входжень\n",
    "print(\"Число, що найчастіше зустрічається:\", most_frequent_value)\n",
    "print('-----------------------------------------------------')\n",
    "print(a)"
   ]
  },
  {
   "cell_type": "markdown",
   "metadata": {},
   "source": [
    "Виведіть лише парні числа, що діляться на 5:"
   ]
  },
  {
   "cell_type": "code",
   "execution_count": 92,
   "metadata": {},
   "outputs": [
    {
     "name": "stdout",
     "output_type": "stream",
     "text": [
      "0\n",
      "0\n",
      "[4 3 6 4 8 3 8 9 8 7 1 5 0 1 5 1 8 1 0 4 9 1 6 5 6 7 8 1 5 6 4 6 6 2 9 1 6\n",
      " 6 7 4 2 1 9 6 7 6 1 2 9 2]\n"
     ]
    }
   ],
   "source": [
    "mas = np.random.randint(0,10,50)\n",
    "\n",
    "for el in mas:\n",
    "    if el%5 == 0:\n",
    "        if el%2 == 0:\n",
    "            print(el)\n",
    "\n",
    "print(mas)"
   ]
  },
  {
   "cell_type": "markdown",
   "metadata": {},
   "source": [
    "Розв'яжіть систему рівнянь:\n",
    "$$2x + 5y = 1 $$\n",
    "\n",
    "$$x - 10y = 3  $$\n",
    "   "
   ]
  },
  {
   "cell_type": "code",
   "execution_count": 96,
   "metadata": {},
   "outputs": [
    {
     "name": "stdout",
     "output_type": "stream",
     "text": [
      "[ 1.  -0.2]\n"
     ]
    }
   ],
   "source": [
    "a = np.array([[2, 5], [1, -10]])\n",
    "b = np.array([1, 3])\n",
    "xy = np.linalg.solve(a, b)\n",
    "\n",
    "print(xy)"
   ]
  }
 ],
 "metadata": {
  "kernelspec": {
   "display_name": "Python 3 (ipykernel)",
   "language": "python",
   "name": "python3"
  },
  "language_info": {
   "codemirror_mode": {
    "name": "ipython",
    "version": 3
   },
   "file_extension": ".py",
   "mimetype": "text/x-python",
   "name": "python",
   "nbconvert_exporter": "python",
   "pygments_lexer": "ipython3",
   "version": "3.10.9"
  }
 },
 "nbformat": 4,
 "nbformat_minor": 2
}
