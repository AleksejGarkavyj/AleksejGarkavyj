{
 "cells": [
  {
   "cell_type": "markdown",
   "id": "ca579fda",
   "metadata": {},
   "source": [
    "# 1. Markdown cells"
   ]
  },
  {
   "cell_type": "markdown",
   "id": "288b8055",
   "metadata": {},
   "source": [
    "* Hi! lts main Academy \n",
    "* All HTML tabs are supported!\n",
    "* Моя строінка на [лінкендін](https://www.markdowntutorial.com/conclusion/) "
   ]
  },
  {
   "cell_type": "markdown",
   "id": "1b722e89",
   "metadata": {},
   "source": [
    "# This is Heading1\n",
    "## This is Heading2"
   ]
  },
  {
   "cell_type": "markdown",
   "id": "646defdc",
   "metadata": {},
   "source": [
    "<span style=\"color:gray\">some gray colored text</span>"
   ]
  },
  {
   "cell_type": "markdown",
   "id": "5971f25d",
   "metadata": {},
   "source": [
    "> This is where we can bring quotes and present them  nicely"
   ]
  },
  {
   "cell_type": "markdown",
   "id": "466e7b37",
   "metadata": {},
   "source": [
    "And is the paragraph about something very important. Event math $$Y_{sub}=\\sqrt{(X_{sub})}$$"
   ]
  },
  {
   "cell_type": "markdown",
   "id": "19c57bd8",
   "metadata": {},
   "source": [
    "Or python code example\n",
    "```python\n",
    "import math\n",
    "def foo()\n",
    "    return \"foo\"\n",
    "```"
   ]
  },
  {
   "cell_type": "markdown",
   "id": "f155430c",
   "metadata": {},
   "source": [
    "Here is the sample mean:$$\\overline{y}=\\frac{1}{n}\\sum_{x=1}^{n}y_i$$"
   ]
  },
  {
   "cell_type": "markdown",
   "id": "8f9b1cb9",
   "metadata": {},
   "source": [
    "Here is the sample variance:$$\\sigma^{2}=\\frac{\\sum_{x=1}^{n}(y_i-\\overline{y})^{2}}{n-1}$$"
   ]
  },
  {
   "cell_type": "markdown",
   "id": "f566b869",
   "metadata": {},
   "source": [
    "Here is the sample standard deviation:$$\\sigma=\\sqrt{\\frac{\\sum_{x=1}^{n}(y_i-\\overline{y})^{2}}{n-1}}$$"
   ]
  },
  {
   "cell_type": "code",
   "execution_count": null,
   "id": "a74448e4",
   "metadata": {},
   "outputs": [],
   "source": []
  }
 ],
 "metadata": {
  "kernelspec": {
   "display_name": "Python 3 (ipykernel)",
   "language": "python",
   "name": "python3"
  },
  "language_info": {
   "codemirror_mode": {
    "name": "ipython",
    "version": 3
   },
   "file_extension": ".py",
   "mimetype": "text/x-python",
   "name": "python",
   "nbconvert_exporter": "python",
   "pygments_lexer": "ipython3",
   "version": "3.10.9"
  }
 },
 "nbformat": 4,
 "nbformat_minor": 5
}
